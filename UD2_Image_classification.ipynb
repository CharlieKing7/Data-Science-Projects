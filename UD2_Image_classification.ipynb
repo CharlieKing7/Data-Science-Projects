{
 "cells": [
  {
   "cell_type": "markdown",
   "metadata": {
    "collapsed": true
   },
   "source": [
    "# Image Classification\n",
    "In this project, you'll classify images from the [CIFAR-10 dataset](https://www.cs.toronto.edu/~kriz/cifar.html).  The dataset consists of airplanes, dogs, cats, and other objects. You'll preprocess the images, then train a convolutional neural network on all the samples. The images need to be normalized and the labels need to be one-hot encoded.  You'll get to apply what you learned and build a convolutional, max pooling, dropout, and fully connected layers.  At the end, you'll get to see your neural network's predictions on the sample images.\n",
    "## Get the Data\n",
    "Run the following cell to download the [CIFAR-10 dataset for python](https://www.cs.toronto.edu/~kriz/cifar-10-python.tar.gz)."
   ]
  },
  {
   "cell_type": "code",
   "execution_count": 1,
   "metadata": {},
   "outputs": [
    {
     "name": "stdout",
     "output_type": "stream",
     "text": [
      "All files found!\n"
     ]
    }
   ],
   "source": [
    "\"\"\"\n",
    "DON'T MODIFY ANYTHING IN THIS CELL THAT IS BELOW THIS LINE\n",
    "\"\"\"\n",
    "from urllib.request import urlretrieve\n",
    "from os.path import isfile, isdir\n",
    "from tqdm import tqdm\n",
    "import problem_unittests as tests\n",
    "import tarfile\n",
    "\n",
    "cifar10_dataset_folder_path = 'cifar-10-batches-py'\n",
    "\n",
    "# Use Floyd's cifar-10 dataset if present\n",
    "floyd_cifar10_location = '/cifar/cifar-10-python.tar.gz'\n",
    "if isfile(floyd_cifar10_location):\n",
    "    tar_gz_path = floyd_cifar10_location\n",
    "else:\n",
    "    tar_gz_path = 'cifar-10-python.tar.gz'\n",
    "\n",
    "class DLProgress(tqdm):\n",
    "    last_block = 0\n",
    "\n",
    "    def hook(self, block_num=1, block_size=1, total_size=None):\n",
    "        self.total = total_size\n",
    "        self.update((block_num - self.last_block) * block_size)\n",
    "        self.last_block = block_num\n",
    "\n",
    "if not isfile(tar_gz_path):\n",
    "    with DLProgress(unit='B', unit_scale=True, miniters=1, desc='CIFAR-10 Dataset') as pbar:\n",
    "        urlretrieve(\n",
    "            'https://www.cs.toronto.edu/~kriz/cifar-10-python.tar.gz',\n",
    "            tar_gz_path,\n",
    "            pbar.hook)\n",
    "\n",
    "if not isdir(cifar10_dataset_folder_path):\n",
    "    with tarfile.open(tar_gz_path) as tar:\n",
    "        tar.extractall()\n",
    "        tar.close()\n",
    "\n",
    "\n",
    "tests.test_folder_path(cifar10_dataset_folder_path)"
   ]
  },
  {
   "cell_type": "markdown",
   "metadata": {},
   "source": [
    "## Explore the Data\n",
    "The dataset is broken into batches to prevent your machine from running out of memory.  The CIFAR-10 dataset consists of 5 batches, named `data_batch_1`, `data_batch_2`, etc.. Each batch contains the labels and images that are one of the following:\n",
    "* airplane\n",
    "* automobile\n",
    "* bird\n",
    "* cat\n",
    "* deer\n",
    "* dog\n",
    "* frog\n",
    "* horse\n",
    "* ship\n",
    "* truck\n",
    "\n",
    "Understanding a dataset is part of making predictions on the data.  Play around with the code cell below by changing the `batch_id` and `sample_id`. The `batch_id` is the id for a batch (1-5). The `sample_id` is the id for a image and label pair in the batch.\n",
    "\n",
    "Ask yourself \"What are all possible labels?\", \"What is the range of values for the image data?\", \"Are the labels in order or random?\".  Answers to questions like these will help you preprocess the data and end up with better predictions."
   ]
  },
  {
   "cell_type": "code",
   "execution_count": 2,
   "metadata": {},
   "outputs": [
    {
     "name": "stdout",
     "output_type": "stream",
     "text": [
      "\n",
      "Stats of batch 1:\n",
      "Samples: 10000\n",
      "Label Counts: {0: 1005, 1: 974, 2: 1032, 3: 1016, 4: 999, 5: 937, 6: 1030, 7: 1001, 8: 1025, 9: 981}\n",
      "First 20 Labels: [6, 9, 9, 4, 1, 1, 2, 7, 8, 3, 4, 7, 7, 2, 9, 9, 9, 3, 2, 6]\n",
      "\n",
      "Example of Image 10:\n",
      "Image - Min Value: 24 Max Value: 130\n",
      "Image - Shape: (32, 32, 3)\n",
      "Label - Label Id: 4 Name: deer\n"
     ]
    },
    {
     "data": {
      "image/png": "[encoded data removed]",
      "text/plain": [
       "<matplotlib.figure.Figure at 0x7f5c55094278>"
      ]
     },
     "metadata": {
      "image/png": {
       "height": 250,
       "width": 253
      }
     },
     "output_type": "display_data"
    }
   ],
   "source": [
    "%matplotlib inline\n",
    "%config InlineBackend.figure_format = 'retina'\n",
    "\n",
    "import helper\n",
    "import numpy as np\n",
    "\n",
    "# Explore the dataset\n",
    "batch_id = 1\n",
    "sample_id = 10\n",
    "helper.display_stats(cifar10_dataset_folder_path, batch_id, sample_id)"
   ]
  },
  {
   "cell_type": "markdown",
   "metadata": {},
   "source": [
    "## Implement Preprocess Functions\n",
    "### Normalize\n",
    "In the cell below, implement the `normalize` function to take in image data, `x`, and return it as a normalized Numpy array. The values should be in the range of 0 to 1, inclusive.  The return object should be the same shape as `x`."
   ]
  },
  {
   "cell_type": "code",
   "execution_count": 3,
   "metadata": {},
   "outputs": [
    {
     "name": "stdout",
     "output_type": "stream",
     "text": [
      "Tests Passed\n"
     ]
    }
   ],
   "source": [
    "def normalize(x):\n",
    "    \"\"\"\n",
    "    Normalize a list of sample image data in the range of 0 to 1\n",
    "    : x: List of image data.  The image shape is (32, 32, 3)\n",
    "    : return: Numpy array of normalize data\n",
    "    \"\"\"\n",
    "    # TODO: Implement Function\n",
    "    x = x/255\n",
    "    return x\n",
    "\n",
    "\n",
    "\"\"\"\n",
    "DON'T MODIFY ANYTHING IN THIS CELL THAT IS BELOW THIS LINE\n",
    "\"\"\"\n",
    "tests.test_normalize(normalize)"
   ]
  },
  {
   "cell_type": "markdown",
   "metadata": {},
   "source": [
    "### One-hot encode\n",
    "Just like the previous code cell, you'll be implementing a function for preprocessing.  This time, you'll implement the `one_hot_encode` function. The input, `x`, are a list of labels.  Implement the function to return the list of labels as One-Hot encoded Numpy array.  The possible values for labels are 0 to 9. The one-hot encoding function should return the same encoding for each value between each call to `one_hot_encode`.  Make sure to save the map of encodings outside the function.\n",
    "\n",
    "Hint: Don't reinvent the wheel."
   ]
  },
  {
   "cell_type": "code",
   "execution_count": 4,
   "metadata": {},
   "outputs": [
    {
     "name": "stdout",
     "output_type": "stream",
     "text": [
      "Tests Passed\n"
     ]
    }
   ],
   "source": [
    "from sklearn import preprocessing\n",
    "\n",
    "lb = preprocessing.LabelBinarizer()\n",
    "# Tell LabelBinarizer which are the classes\n",
    "lb.fit([0,1,2,3,4,5,6,7,8,9])\n",
    "\n",
    "def one_hot_encode(x):\n",
    "    \n",
    "    \"\"\"\n",
    "    One hot encode a list of sample labels. Return a one-hot encoded vector for each label.\n",
    "    : x: List of sample Labels\n",
    "    : return: Numpy array of one-hot encoded labels\n",
    "    \"\"\"\n",
    "    # TODO: Implement Function\n",
    "    return lb.transform(x)\n",
    "\n",
    "\n",
    "\"\"\"\n",
    "DON'T MODIFY ANYTHING IN THIS CELL THAT IS BELOW THIS LINE\n",
    "\"\"\"\n",
    "tests.test_one_hot_encode(one_hot_encode)"
   ]
  },
  {
   "cell_type": "markdown",
   "metadata": {},
   "source": [
    "### Randomize Data\n",
    "As you saw from exploring the data above, the order of the samples are randomized.  It doesn't hurt to randomize it again, but you don't need to for this dataset."
   ]
  },
  {
   "cell_type": "markdown",
   "metadata": {},
   "source": [
    "## Preprocess all the data and save it\n",
    "Running the code cell below will preprocess all the CIFAR-10 data and save it to file. The code below also uses 10% of the training data for validation."
   ]
  },
  {
   "cell_type": "code",
   "execution_count": 5,
   "metadata": {
    "collapsed": true
   },
   "outputs": [],
   "source": [
    "\"\"\"\n",
    "DON'T MODIFY ANYTHING IN THIS CELL\n",
    "\"\"\"\n",
    "# Preprocess Training, Validation, and Testing Data\n",
    "helper.preprocess_and_save_data(cifar10_dataset_folder_path, normalize, one_hot_encode)"
   ]
  },
  {
   "cell_type": "markdown",
   "metadata": {},
   "source": [
    "# Check Point\n",
    "This is your first checkpoint.  If you ever decide to come back to this notebook or have to restart the notebook, you can start from here.  The preprocessed data has been saved to disk."
   ]
  },
  {
   "cell_type": "code",
   "execution_count": 6,
   "metadata": {
    "collapsed": true
   },
   "outputs": [],
   "source": [
    "\"\"\"\n",
    "DON'T MODIFY ANYTHING IN THIS CELL\n",
    "\"\"\"\n",
    "import pickle\n",
    "import problem_unittests as tests\n",
    "import helper\n",
    "\n",
    "# Load the Preprocessed Validation data\n",
    "valid_features, valid_labels = pickle.load(open('preprocess_validation.p', mode='rb'))"
   ]
  },
  {
   "cell_type": "markdown",
   "metadata": {},
   "source": [
    "## Build the network\n",
    "For the neural network, you'll build each layer into a function.  Most of the code you've seen has been outside of functions. To test your code more thoroughly, we require that you put each layer in a function.  This allows us to give you better feedback and test for simple mistakes using our unittests before you submit your project.\n",
    "\n",
    ">**Note:** If you're finding it hard to dedicate enough time for this course each week, we've provided a small shortcut to this part of the project. In the next couple of problems, you'll have the option to use classes from the [TensorFlow Layers](https://www.tensorflow.org/api_docs/python/tf/layers) or [TensorFlow Layers (contrib)](https://www.tensorflow.org/api_guides/python/contrib.layers) packages to build each layer, except the layers you build in the \"Convolutional and Max Pooling Layer\" section.  TF Layers is similar to Keras's and TFLearn's abstraction to layers, so it's easy to pickup.\n",
    "\n",
    ">However, if you would like to get the most out of this course, try to solve all the problems _without_ using anything from the TF Layers packages. You **can** still use classes from other packages that happen to have the same name as ones you find in TF Layers! For example, instead of using the TF Layers version of the `conv2d` class, [tf.layers.conv2d](https://www.tensorflow.org/api_docs/python/tf/layers/conv2d), you would want to use the TF Neural Network version of `conv2d`, [tf.nn.conv2d](https://www.tensorflow.org/api_docs/python/tf/nn/conv2d). \n",
    "\n",
    "Let's begin!\n",
    "\n",
    "### Input\n",
    "The neural network needs to read the image data, one-hot encoded labels, and dropout keep probability. Implement the following functions\n",
    "* Implement `neural_net_image_input`\n",
    " * Return a [TF Placeholder](https://www.tensorflow.org/api_docs/python/tf/placeholder)\n",
    " * Set the shape using `image_shape` with batch size set to `None`.\n",
    " * Name the TensorFlow placeholder \"x\" using the TensorFlow `name` parameter in the [TF Placeholder](https://www.tensorflow.org/api_docs/python/tf/placeholder).\n",
    "* Implement `neural_net_label_input`\n",
    " * Return a [TF Placeholder](https://www.tensorflow.org/api_docs/python/tf/placeholder)\n",
    " * Set the shape using `n_classes` with batch size set to `None`.\n",
    " * Name the TensorFlow placeholder \"y\" using the TensorFlow `name` parameter in the [TF Placeholder](https://www.tensorflow.org/api_docs/python/tf/placeholder).\n",
    "* Implement `neural_net_keep_prob_input`\n",
    " * Return a [TF Placeholder](https://www.tensorflow.org/api_docs/python/tf/placeholder) for dropout keep probability.\n",
    " * Name the TensorFlow placeholder \"keep_prob\" using the TensorFlow `name` parameter in the [TF Placeholder](https://www.tensorflow.org/api_docs/python/tf/placeholder).\n",
    "\n",
    "These names will be used at the end of the project to load your saved model.\n",
    "\n",
    "Note: `None` for shapes in TensorFlow allow for a dynamic size."
   ]
  },
  {
   "cell_type": "code",
   "execution_count": 7,
   "metadata": {},
   "outputs": [
    {
     "name": "stdout",
     "output_type": "stream",
     "text": [
      "Image Input Tests Passed.\n",
      "Label Input Tests Passed.\n",
      "Keep Prob Tests Passed.\n"
     ]
    }
   ],
   "source": [
    "import tensorflow as tf\n",
    "\n",
    "def neural_net_image_input(image_shape):\n",
    "    \"\"\"\n",
    "    Return a Tensor for a batch of image input\n",
    "    : image_shape: Shape of the images\n",
    "    : return: Tensor for image input.\n",
    "    \"\"\"\n",
    "    # TODO: Implement Function\n",
    "    return tf.placeholder(tf.float32, shape = [None, image_shape[0], image_shape[1], image_shape[2]], name = \"x\")\n",
    "\n",
    "\n",
    "def neural_net_label_input(n_classes):\n",
    "    \"\"\"\n",
    "    Return a Tensor for a batch of label input\n",
    "    : n_classes: Number of classes\n",
    "    : return: Tensor for label input.\n",
    "    \"\"\"\n",
    "    # TODO: Implement Function\n",
    "    return tf.placeholder(tf.int32, shape = [None, n_classes], name = \"y\")\n",
    "\n",
    "\n",
    "def neural_net_keep_prob_input():\n",
    "    \"\"\"\n",
    "    Return a Tensor for keep probability\n",
    "    : return: Tensor for keep probability.\n",
    "    \"\"\"\n",
    "    # TODO: Implement Function\n",
    "    return tf.placeholder(tf.float32, name = \"keep_prob\")\n",
    "\n",
    "\n",
    "\"\"\"\n",
    "DON'T MODIFY ANYTHING IN THIS CELL THAT IS BELOW THIS LINE\n",
    "\"\"\"\n",
    "tf.reset_default_graph()\n",
    "tests.test_nn_image_inputs(neural_net_image_input)\n",
    "tests.test_nn_label_inputs(neural_net_label_input)\n",
    "tests.test_nn_keep_prob_inputs(neural_net_keep_prob_input)"
   ]
  },
  {
   "cell_type": "markdown",
   "metadata": {},
   "source": [
    "### Convolution and Max Pooling Layer\n",
    "Convolution layers have a lot of success with images. For this code cell, you should implement the function `conv2d_maxpool` to apply convolution then max pooling:\n",
    "* Create the weight and bias using `conv_ksize`, `conv_num_outputs` and the shape of `x_tensor`.\n",
    "* Apply a convolution to `x_tensor` using weight and `conv_strides`.\n",
    " * We recommend you use same padding, but you're welcome to use any padding.\n",
    "* Add bias\n",
    "* Add a nonlinear activation to the convolution.\n",
    "* Apply Max Pooling using `pool_ksize` and `pool_strides`.\n",
    " * We recommend you use same padding, but you're welcome to use any padding.\n",
    "\n",
    "**Note:** You **can't** use [TensorFlow Layers](https://www.tensorflow.org/api_docs/python/tf/layers) or [TensorFlow Layers (contrib)](https://www.tensorflow.org/api_guides/python/contrib.layers) for **this** layer, but you can still use TensorFlow's [Neural Network](https://www.tensorflow.org/api_docs/python/tf/nn) package. You may still use the shortcut option for all the **other** layers. "
   ]
  },
  {
   "cell_type": "code",
   "execution_count": 8,
   "metadata": {},
   "outputs": [
    {
     "name": "stdout",
     "output_type": "stream",
     "text": [
      "Tests Passed\n"
     ]
    }
   ],
   "source": [
    "def conv2d_maxpool(x_tensor, conv_num_outputs, conv_ksize, conv_strides, pool_ksize, pool_strides):\n",
    "    \"\"\"\n",
    "    Apply convolution then max pooling to x_tensor\n",
    "    :param x_tensor: TensorFlow Tensor\n",
    "    :param conv_num_outputs: Number of outputs for the convolutional layer\n",
    "    :param conv_ksize: kernal size 2-D Tuple for the convolutional layer\n",
    "    :param conv_strides: Stride 2-D Tuple for convolution\n",
    "    :param pool_ksize: kernal size 2-D Tuple for pool\n",
    "    :param pool_strides: Stride 2-D Tuple for pool\n",
    "    : return: A tensor that represents convolution and max pooling of x_tensor\n",
    "    \"\"\"\n",
    "    # TODO: Implement Function\n",
    "    W = tf.Variable(tf.truncated_normal([conv_ksize[0],conv_ksize[1],x_tensor.get_shape().as_list()[-1],conv_num_outputs],\\\n",
    "                                        stddev= 0.1))\n",
    "    bias = tf.Variable(tf.zeros(conv_num_outputs))\n",
    "    \n",
    "    x = tf.nn.conv2d(x_tensor,W,strides = [1, conv_strides[0], conv_strides[1], 1], padding = \"SAME\")\n",
    "    x = tf.nn.bias_add(x, bias)\n",
    "    x = tf.nn.relu(x)\n",
    "    \n",
    "    x = tf.nn.max_pool(x, ksize=[1,pool_ksize[0],pool_ksize[1],1], strides=[1,pool_strides[0], pool_strides[1],1],\\\n",
    "                       padding= \"SAME\")\n",
    "    return x \n",
    "\n",
    "\n",
    "\"\"\"\n",
    "DON'T MODIFY ANYTHING IN THIS CELL THAT IS BELOW THIS LINE\n",
    "\"\"\"\n",
    "tests.test_con_pool(conv2d_maxpool)"
   ]
  },
  {
   "cell_type": "markdown",
   "metadata": {},
   "source": [
    "### Flatten Layer\n",
    "Implement the `flatten` function to change the dimension of `x_tensor` from a 4-D tensor to a 2-D tensor.  The output should be the shape (*Batch Size*, *Flattened Image Size*). Shortcut option: you can use classes from the [TensorFlow Layers](https://www.tensorflow.org/api_docs/python/tf/layers) or [TensorFlow Layers (contrib)](https://www.tensorflow.org/api_guides/python/contrib.layers) packages for this layer. For more of a challenge, only use other TensorFlow packages."
   ]
  },
  {
   "cell_type": "code",
   "execution_count": 9,
   "metadata": {},
   "outputs": [
    {
     "name": "stdout",
     "output_type": "stream",
     "text": [
      "Tests Passed\n"
     ]
    }
   ],
   "source": [
    "def flatten(x_tensor):\n",
    "    \"\"\"\n",
    "    Flatten x_tensor to (Batch Size, Flattened Image Size)\n",
    "    : x_tensor: A tensor of size (Batch Size, ...), where ... are the image dimensions.\n",
    "    : return: A tensor of size (Batch Size, Flattened Image Size).\n",
    "    \"\"\"\n",
    "    # TODO: Implement Function\n",
    "    return tf.reshape(x_tensor, [-1, x_tensor.get_shape().as_list()[1]* x_tensor.get_shape().as_list()[2]* \\\n",
    "                                 x_tensor.get_shape().as_list()[3]])\n",
    "\n",
    "\n",
    "\"\"\"\n",
    "DON'T MODIFY ANYTHING IN THIS CELL THAT IS BELOW THIS LINE\n",
    "\"\"\"\n",
    "tests.test_flatten(flatten)"
   ]
  },
  {
   "cell_type": "markdown",
   "metadata": {},
   "source": [
    "### Fully-Connected Layer\n",
    "Implement the `fully_conn` function to apply a fully connected layer to `x_tensor` with the shape (*Batch Size*, *num_outputs*). Shortcut option: you can use classes from the [TensorFlow Layers](https://www.tensorflow.org/api_docs/python/tf/layers) or [TensorFlow Layers (contrib)](https://www.tensorflow.org/api_guides/python/contrib.layers) packages for this layer. For more of a challenge, only use other TensorFlow packages."
   ]
  },
  {
   "cell_type": "code",
   "execution_count": 10,
   "metadata": {},
   "outputs": [
    {
     "name": "stdout",
     "output_type": "stream",
     "text": [
      "Tests Passed\n"
     ]
    }
   ],
   "source": [
    "def fully_conn(x_tensor, num_outputs):\n",
    "    \"\"\"\n",
    "    Apply a fully connected layer to x_tensor using weight and bias\n",
    "    : x_tensor: A 2-D tensor where the first dimension is batch size.\n",
    "    : num_outputs: The number of output that the new tensor should be.\n",
    "    : return: A 2-D tensor where the second dimension is num_outputs.\n",
    "    \"\"\"\n",
    "    \n",
    "    W = tf.Variable(tf.truncated_normal([x_tensor.get_shape().as_list()[-1],num_outputs], stddev=0.1))\n",
    "    bias = tf.Variable(tf.zeros(num_outputs))\n",
    "    \n",
    "    # TODO: Implement Function\n",
    "    fc = tf.add(tf.matmul(x_tensor,W), bias)\n",
    "    fc = tf.nn.relu(fc)\n",
    "    \n",
    "    return fc\n",
    "\n",
    "\n",
    "\"\"\"\n",
    "DON'T MODIFY ANYTHING IN THIS CELL THAT IS BELOW THIS LINE\n",
    "\"\"\"\n",
    "tests.test_fully_conn(fully_conn)"
   ]
  },
  {
   "cell_type": "markdown",
   "metadata": {},
   "source": [
    "### Output Layer\n",
    "Implement the `output` function to apply a fully connected layer to `x_tensor` with the shape (*Batch Size*, *num_outputs*). Shortcut option: you can use classes from the [TensorFlow Layers](https://www.tensorflow.org/api_docs/python/tf/layers) or [TensorFlow Layers (contrib)](https://www.tensorflow.org/api_guides/python/contrib.layers) packages for this layer. For more of a challenge, only use other TensorFlow packages.\n",
    "\n",
    "**Note:** Activation, softmax, or cross entropy should **not** be applied to this."
   ]
  },
  {
   "cell_type": "code",
   "execution_count": 11,
   "metadata": {},
   "outputs": [
    {
     "name": "stdout",
     "output_type": "stream",
     "text": [
      "Tests Passed\n"
     ]
    }
   ],
   "source": [
    "def output(x_tensor, num_outputs):\n",
    "    \"\"\"\n",
    "    Apply a output layer to x_tensor using weight and bias\n",
    "    : x_tensor: A 2-D tensor where the first dimension is batch size.\n",
    "    : num_outputs: The number of output that the new tensor should be.\n",
    "    : return: A 2-D tensor where the second dimension is num_outputs.\n",
    "    \"\"\"\n",
    "    \n",
    "    W = tf.Variable(tf.truncated_normal([x_tensor.get_shape().as_list()[-1],num_outputs],stddev=0.1))\n",
    "    bias = tf.Variable(tf.zeros(num_outputs))\n",
    "    \n",
    "    # TODO: Implement Function\n",
    "    out = tf.add(tf.matmul(x_tensor, W), bias)\n",
    "    \n",
    "    return out\n",
    "\n",
    "\n",
    "\"\"\"\n",
    "DON'T MODIFY ANYTHING IN THIS CELL THAT IS BELOW THIS LINE\n",
    "\"\"\"\n",
    "tests.test_output(output)"
   ]
  },
  {
   "cell_type": "markdown",
   "metadata": {},
   "source": [
    "### Create Convolutional Model\n",
    "Implement the function `conv_net` to create a convolutional neural network model. The function takes in a batch of images, `x`, and outputs logits.  Use the layers you created above to create this model:\n",
    "\n",
    "* Apply 1, 2, or 3 Convolution and Max Pool layers\n",
    "* Apply a Flatten Layer\n",
    "* Apply 1, 2, or 3 Fully Connected Layers\n",
    "* Apply an Output Layer\n",
    "* Return the output\n",
    "* Apply [TensorFlow's Dropout](https://www.tensorflow.org/api_docs/python/tf/nn/dropout) to one or more layers in the model using `keep_prob`. "
   ]
  },
  {
   "cell_type": "markdown",
   "metadata": {},
   "source": [
    "### Feedback from Reviewer\n",
    "\n",
    "![Title](nn_architecture_feedback.jpg)"
   ]
  },
  {
   "cell_type": "code",
   "execution_count": 12,
   "metadata": {},
   "outputs": [
    {
     "name": "stdout",
     "output_type": "stream",
     "text": [
      "Neural Network Built!\n"
     ]
    }
   ],
   "source": [
    "def conv_net(x, keep_prob):\n",
    "    \"\"\"\n",
    "    Create a convolutional neural network model\n",
    "    : x: Placeholder tensor that holds image data.\n",
    "    : keep_prob: Placeholder tensor that hold dropout keep probability.\n",
    "    : return: Tensor that represents logits\n",
    "    \"\"\"\n",
    "    # TODO: Apply 1, 2, or 3 Convolution and Max Pool layers\n",
    "    #    Play around with different number of outputs, kernel size and stride\n",
    "    # Function Definition from Above:\n",
    "    #    conv2d_maxpool(x_tensor, conv_num_outputs, conv_ksize, conv_strides, pool_ksize, pool_strides)\n",
    "    \n",
    "    # 1st Convolutional/MaxPool Layer\n",
    "    conv_num_outputs = 20\n",
    "    conv_ksize = (3,3)\n",
    "    conv_strides = (1,1)\n",
    "    pool_ksize = (2,2)\n",
    "    pool_strides = (2,2)\n",
    "    \n",
    "    x_tensor = conv2d_maxpool(x, conv_num_outputs=conv_num_outputs, conv_ksize=conv_ksize, conv_strides = conv_strides,\\\n",
    "                      pool_ksize=pool_ksize, pool_strides=pool_strides)\n",
    "    x_tensor = tf.nn.dropout(x_tensor,keep_prob)\n",
    "\n",
    "    # 2nd Convolutional/MaxPool Layer\n",
    "    conv_num_outputs = 40\n",
    "    conv_ksize = (3,3)\n",
    "    conv_strides = (1,1)\n",
    "    pool_ksize = (2,2)\n",
    "    pool_strides = (2,2)\n",
    "    \n",
    "    x_tensor = conv2d_maxpool(x_tensor, conv_num_outputs=conv_num_outputs, conv_ksize=conv_ksize, conv_strides = conv_strides,\\\n",
    "                      pool_ksize=pool_ksize, pool_strides=pool_strides)\n",
    "    \n",
    "    # 3rd Convolutional/MaxPool Layer\n",
    "    conv_num_outputs = 80\n",
    "    conv_ksize = (3,3)\n",
    "    conv_strides = (1,1)\n",
    "    pool_ksize = (2,2)\n",
    "    pool_strides = (2,2)\n",
    "    \n",
    "    x = conv2d_maxpool(x, conv_num_outputs=conv_num_outputs, conv_ksize=conv_ksize, conv_strides = conv_strides,\\\n",
    "                      pool_ksize=pool_ksize, pool_strides=pool_strides)\n",
    "    \n",
    "\n",
    "    # TODO: Apply a Flatten Layer\n",
    "    # Function Definition from Above:\n",
    "    #   flatten(x_tensor)\n",
    "    \n",
    "    # Flatten Layer\n",
    "    x_tensor = flatten(x_tensor)\n",
    "    \n",
    "\n",
    "    # TODO: Apply 1, 2, or 3 Fully Connected Layers\n",
    "    #    Play around with different number of outputs\n",
    "    # Function Definition from Above:\n",
    "    #   fully_conn(x_tensor, num_outputs)\n",
    "    \n",
    "    # 1st Fully Connected Layer\n",
    "    num_outputs = 500\n",
    "    x_tensor = fully_conn(x_tensor,num_outputs=num_outputs)\n",
    "    x_tensor = tf.nn.dropout(x_tensor, keep_prob=keep_prob)\n",
    "    \n",
    "    # 2nd Fully Connected Layer\n",
    "    num_outputs = 250\n",
    "    x_tensor = fully_conn(x_tensor,num_outputs=num_outputs)\n",
    "    \n",
    "    # 3rd Fully Connected Layer\n",
    "    num_outputs = 125\n",
    "    x_tensor = fully_conn(x_tensor,num_outputs=num_outputs)\n",
    "    \n",
    "           \n",
    "    \n",
    "    # TODO: Apply an Output Layer\n",
    "    #    Set this to the number of classes\n",
    "    # Function Definition from Above:\n",
    "    #   output(x_tensor, num_outputs)\n",
    "    \n",
    "    # Output Layer\n",
    "    x_tensor = output(x_tensor, 10)\n",
    "    \n",
    "    # TODO: return output\n",
    "    return x_tensor\n",
    "\n",
    "\n",
    "\"\"\"\n",
    "DON'T MODIFY ANYTHING IN THIS CELL THAT IS BELOW THIS LINE\n",
    "\"\"\"\n",
    "\n",
    "##############################\n",
    "## Build the Neural Network ##\n",
    "##############################\n",
    "\n",
    "# Remove previous weights, bias, inputs, etc..\n",
    "tf.reset_default_graph()\n",
    "\n",
    "# Inputs\n",
    "x = neural_net_image_input((32, 32, 3))\n",
    "y = neural_net_label_input(10)\n",
    "keep_prob = neural_net_keep_prob_input()\n",
    "\n",
    "# Model\n",
    "logits = conv_net(x, keep_prob)\n",
    "\n",
    "# Name logits Tensor, so that is can be loaded from disk after training\n",
    "logits = tf.identity(logits, name='logits')\n",
    "\n",
    "# Loss and Optimizer\n",
    "cost = tf.reduce_mean(tf.nn.softmax_cross_entropy_with_logits(logits=logits, labels=y))\n",
    "optimizer = tf.train.AdamOptimizer().minimize(cost)\n",
    "\n",
    "# Accuracy\n",
    "correct_pred = tf.equal(tf.argmax(logits, 1), tf.argmax(y, 1))\n",
    "accuracy = tf.reduce_mean(tf.cast(correct_pred, tf.float32), name='accuracy')\n",
    "\n",
    "tests.test_conv_net(conv_net)"
   ]
  },
  {
   "cell_type": "markdown",
   "metadata": {},
   "source": [
    "## Train the Neural Network\n",
    "### Single Optimization\n",
    "Implement the function `train_neural_network` to do a single optimization.  The optimization should use `optimizer` to optimize in `session` with a `feed_dict` of the following:\n",
    "* `x` for image input\n",
    "* `y` for labels\n",
    "* `keep_prob` for keep probability for dropout\n",
    "\n",
    "This function will be called for each batch, so `tf.global_variables_initializer()` has already been called.\n",
    "\n",
    "Note: Nothing needs to be returned. This function is only optimizing the neural network."
   ]
  },
  {
   "cell_type": "code",
   "execution_count": 13,
   "metadata": {},
   "outputs": [
    {
     "name": "stdout",
     "output_type": "stream",
     "text": [
      "Tests Passed\n"
     ]
    }
   ],
   "source": [
    "def train_neural_network(session, optimizer, keep_probability, feature_batch, label_batch):\n",
    "    \"\"\"\n",
    "    Optimize the session on a batch of images and labels\n",
    "    : session: Current TensorFlow session\n",
    "    : optimizer: TensorFlow optimizer function\n",
    "    : keep_probability: keep probability\n",
    "    : feature_batch: Batch of Numpy image data\n",
    "    : label_batch: Batch of Numpy label data\n",
    "    \"\"\"\n",
    "    # TODO: Implement Function\n",
    "    session.run(optimizer, feed_dict = {x : feature_batch, y: label_batch, keep_prob : keep_probability})\n",
    "\n",
    "\n",
    "\"\"\"\n",
    "DON'T MODIFY ANYTHING IN THIS CELL THAT IS BELOW THIS LINE\n",
    "\"\"\"\n",
    "tests.test_train_nn(train_neural_network)"
   ]
  },
  {
   "cell_type": "markdown",
   "metadata": {},
   "source": [
    "### Show Stats\n",
    "Implement the function `print_stats` to print loss and validation accuracy.  Use the global variables `valid_features` and `valid_labels` to calculate validation accuracy.  Use a keep probability of `1.0` to calculate the loss and validation accuracy."
   ]
  },
  {
   "cell_type": "code",
   "execution_count": 14,
   "metadata": {
    "collapsed": true
   },
   "outputs": [],
   "source": [
    "def print_stats(session, feature_batch, label_batch, cost, accuracy):\n",
    "    \"\"\"\n",
    "    Print information about loss and validation accuracy\n",
    "    : session: Current TensorFlow session\n",
    "    : feature_batch: Batch of Numpy image data\n",
    "    : label_batch: Batch of Numpy label data\n",
    "    : cost: TensorFlow cost function\n",
    "    : accuracy: TensorFlow accuracy function\n",
    "    \"\"\"\n",
    "    # TODO: Implement Function\n",
    "    loss = session.run(cost, feed_dict = {x : feature_batch, y: label_batch, keep_prob : 1.0})\n",
    "    valid_acc = session.run(accuracy, feed_dict = {x : valid_features, y: valid_labels, keep_prob : 1.0})\n",
    "    print('Loss {:>2.3f}, Validation Accuracy {:>2.3f}'.format(loss,valid_acc))"
   ]
  },
  {
   "cell_type": "markdown",
   "metadata": {},
   "source": [
    "### Hyperparameters\n",
    "Tune the following parameters:\n",
    "* Set `epochs` to the number of iterations until the network stops learning or start overfitting\n",
    "* Set `batch_size` to the highest number that your machine has memory for.  Most people set them to common sizes of memory:\n",
    " * 64\n",
    " * 128\n",
    " * 256\n",
    " * ...\n",
    "* Set `keep_probability` to the probability of keeping a node using dropout"
   ]
  },
  {
   "cell_type": "code",
   "execution_count": 15,
   "metadata": {
    "collapsed": true
   },
   "outputs": [],
   "source": [
    "# TODO: Tune Parameters\n",
    "epochs = 50\n",
    "batch_size = 512\n",
    "keep_probability = 0.5"
   ]
  },
  {
   "cell_type": "markdown",
   "metadata": {},
   "source": [
    "### Train on a Single CIFAR-10 Batch\n",
    "Instead of training the neural network on all the CIFAR-10 batches of data, let's use a single batch. This should save time while you iterate on the model to get a better accuracy.  Once the final validation accuracy is 50% or greater, run the model on all the data in the next section."
   ]
  },
  {
   "cell_type": "code",
   "execution_count": 16,
   "metadata": {},
   "outputs": [
    {
     "name": "stdout",
     "output_type": "stream",
     "text": [
      "Checking the Training on a Single Batch...\n",
      "Epoch  1, CIFAR-10 Batch 1:  Loss 2.289, Validation Accuracy 0.134\n",
      "Epoch  2, CIFAR-10 Batch 1:  Loss 2.267, Validation Accuracy 0.180\n",
      "Epoch  3, CIFAR-10 Batch 1:  Loss 2.198, Validation Accuracy 0.223\n",
      "Epoch  4, CIFAR-10 Batch 1:  Loss 2.098, Validation Accuracy 0.274\n",
      "Epoch  5, CIFAR-10 Batch 1:  Loss 1.988, Validation Accuracy 0.328\n",
      "Epoch  6, CIFAR-10 Batch 1:  Loss 1.902, Validation Accuracy 0.354\n",
      "Epoch  7, CIFAR-10 Batch 1:  Loss 1.836, Validation Accuracy 0.357\n",
      "Epoch  8, CIFAR-10 Batch 1:  Loss 1.768, Validation Accuracy 0.383\n",
      "Epoch  9, CIFAR-10 Batch 1:  Loss 1.728, Validation Accuracy 0.397\n",
      "Epoch 10, CIFAR-10 Batch 1:  Loss 1.676, Validation Accuracy 0.410\n",
      "Epoch 11, CIFAR-10 Batch 1:  Loss 1.627, Validation Accuracy 0.426\n",
      "Epoch 12, CIFAR-10 Batch 1:  Loss 1.564, Validation Accuracy 0.441\n",
      "Epoch 13, CIFAR-10 Batch 1:  Loss 1.561, Validation Accuracy 0.438\n",
      "Epoch 14, CIFAR-10 Batch 1:  Loss 1.490, Validation Accuracy 0.455\n",
      "Epoch 15, CIFAR-10 Batch 1:  Loss 1.452, Validation Accuracy 0.468\n",
      "Epoch 16, CIFAR-10 Batch 1:  Loss 1.458, Validation Accuracy 0.448\n",
      "Epoch 17, CIFAR-10 Batch 1:  Loss 1.382, Validation Accuracy 0.470\n",
      "Epoch 18, CIFAR-10 Batch 1:  Loss 1.337, Validation Accuracy 0.486\n",
      "Epoch 19, CIFAR-10 Batch 1:  Loss 1.294, Validation Accuracy 0.492\n",
      "Epoch 20, CIFAR-10 Batch 1:  Loss 1.275, Validation Accuracy 0.492\n",
      "Epoch 21, CIFAR-10 Batch 1:  Loss 1.238, Validation Accuracy 0.501\n",
      "Epoch 22, CIFAR-10 Batch 1:  Loss 1.217, Validation Accuracy 0.502\n",
      "Epoch 23, CIFAR-10 Batch 1:  Loss 1.193, Validation Accuracy 0.507\n",
      "Epoch 24, CIFAR-10 Batch 1:  Loss 1.163, Validation Accuracy 0.511\n",
      "Epoch 25, CIFAR-10 Batch 1:  Loss 1.136, Validation Accuracy 0.501\n",
      "Epoch 26, CIFAR-10 Batch 1:  Loss 1.116, Validation Accuracy 0.516\n",
      "Epoch 27, CIFAR-10 Batch 1:  Loss 1.058, Validation Accuracy 0.517\n",
      "Epoch 28, CIFAR-10 Batch 1:  Loss 0.972, Validation Accuracy 0.536\n",
      "Epoch 29, CIFAR-10 Batch 1:  Loss 0.980, Validation Accuracy 0.539\n",
      "Epoch 30, CIFAR-10 Batch 1:  Loss 0.963, Validation Accuracy 0.537\n",
      "Epoch 31, CIFAR-10 Batch 1:  Loss 0.929, Validation Accuracy 0.538\n",
      "Epoch 32, CIFAR-10 Batch 1:  Loss 0.892, Validation Accuracy 0.536\n",
      "Epoch 33, CIFAR-10 Batch 1:  Loss 0.841, Validation Accuracy 0.545\n",
      "Epoch 34, CIFAR-10 Batch 1:  Loss 0.836, Validation Accuracy 0.541\n",
      "Epoch 35, CIFAR-10 Batch 1:  Loss 0.808, Validation Accuracy 0.546\n",
      "Epoch 36, CIFAR-10 Batch 1:  Loss 0.757, Validation Accuracy 0.560\n",
      "Epoch 37, CIFAR-10 Batch 1:  Loss 0.775, Validation Accuracy 0.547\n",
      "Epoch 38, CIFAR-10 Batch 1:  Loss 0.690, Validation Accuracy 0.558\n",
      "Epoch 39, CIFAR-10 Batch 1:  Loss 0.650, Validation Accuracy 0.564\n",
      "Epoch 40, CIFAR-10 Batch 1:  Loss 0.663, Validation Accuracy 0.555\n",
      "Epoch 41, CIFAR-10 Batch 1:  Loss 0.659, Validation Accuracy 0.555\n",
      "Epoch 42, CIFAR-10 Batch 1:  Loss 0.618, Validation Accuracy 0.573\n",
      "Epoch 43, CIFAR-10 Batch 1:  Loss 0.564, Validation Accuracy 0.576\n",
      "Epoch 44, CIFAR-10 Batch 1:  Loss 0.541, Validation Accuracy 0.576\n",
      "Epoch 45, CIFAR-10 Batch 1:  Loss 0.527, Validation Accuracy 0.579\n",
      "Epoch 46, CIFAR-10 Batch 1:  Loss 0.476, Validation Accuracy 0.579\n",
      "Epoch 47, CIFAR-10 Batch 1:  Loss 0.461, Validation Accuracy 0.588\n",
      "Epoch 48, CIFAR-10 Batch 1:  Loss 0.437, Validation Accuracy 0.592\n",
      "Epoch 49, CIFAR-10 Batch 1:  Loss 0.430, Validation Accuracy 0.593\n",
      "Epoch 50, CIFAR-10 Batch 1:  Loss 0.409, Validation Accuracy 0.595\n"
     ]
    }
   ],
   "source": [
    "\"\"\"\n",
    "DON'T MODIFY ANYTHING IN THIS CELL\n",
    "\"\"\"\n",
    "print('Checking the Training on a Single Batch...')\n",
    "with tf.Session() as sess:\n",
    "    # Initializing the variables\n",
    "    sess.run(tf.global_variables_initializer())\n",
    "    \n",
    "    # Training cycle\n",
    "    for epoch in range(epochs):\n",
    "        batch_i = 1\n",
    "        for batch_features, batch_labels in helper.load_preprocess_training_batch(batch_i, batch_size):\n",
    "            train_neural_network(sess, optimizer, keep_probability, batch_features, batch_labels)\n",
    "        print('Epoch {:>2}, CIFAR-10 Batch {}:  '.format(epoch + 1, batch_i), end='')\n",
    "        print_stats(sess, batch_features, batch_labels, cost, accuracy)"
   ]
  },
  {
   "cell_type": "markdown",
   "metadata": {},
   "source": [
    "### Fully Train the Model\n",
    "Now that you got a good accuracy with a single CIFAR-10 batch, try it with all five batches."
   ]
  },
  {
   "cell_type": "code",
   "execution_count": 17,
   "metadata": {
    "scrolled": true
   },
   "outputs": [
    {
     "name": "stdout",
     "output_type": "stream",
     "text": [
      "Training...\n",
      "Epoch  1, CIFAR-10 Batch 1:  Loss 2.292, Validation Accuracy 0.142\n",
      "Epoch  1, CIFAR-10 Batch 2:  Loss 2.286, Validation Accuracy 0.154\n",
      "Epoch  1, CIFAR-10 Batch 3:  Loss 2.236, Validation Accuracy 0.230\n",
      "Epoch  1, CIFAR-10 Batch 4:  Loss 2.088, Validation Accuracy 0.229\n",
      "Epoch  1, CIFAR-10 Batch 5:  Loss 2.066, Validation Accuracy 0.255\n",
      "Epoch  2, CIFAR-10 Batch 1:  Loss 2.067, Validation Accuracy 0.306\n",
      "Epoch  2, CIFAR-10 Batch 2:  Loss 1.970, Validation Accuracy 0.290\n",
      "Epoch  2, CIFAR-10 Batch 3:  Loss 1.842, Validation Accuracy 0.326\n",
      "Epoch  2, CIFAR-10 Batch 4:  Loss 1.836, Validation Accuracy 0.326\n",
      "Epoch  2, CIFAR-10 Batch 5:  Loss 1.785, Validation Accuracy 0.350\n",
      "Epoch  3, CIFAR-10 Batch 1:  Loss 1.841, Validation Accuracy 0.381\n",
      "Epoch  3, CIFAR-10 Batch 2:  Loss 1.734, Validation Accuracy 0.389\n",
      "Epoch  3, CIFAR-10 Batch 3:  Loss 1.644, Validation Accuracy 0.366\n",
      "Epoch  3, CIFAR-10 Batch 4:  Loss 1.593, Validation Accuracy 0.407\n",
      "Epoch  3, CIFAR-10 Batch 5:  Loss 1.570, Validation Accuracy 0.416\n",
      "Epoch  4, CIFAR-10 Batch 1:  Loss 1.663, Validation Accuracy 0.448\n",
      "Epoch  4, CIFAR-10 Batch 2:  Loss 1.549, Validation Accuracy 0.445\n",
      "Epoch  4, CIFAR-10 Batch 3:  Loss 1.382, Validation Accuracy 0.442\n",
      "Epoch  4, CIFAR-10 Batch 4:  Loss 1.354, Validation Accuracy 0.477\n",
      "Epoch  4, CIFAR-10 Batch 5:  Loss 1.417, Validation Accuracy 0.467\n",
      "Epoch  5, CIFAR-10 Batch 1:  Loss 1.587, Validation Accuracy 0.469\n",
      "Epoch  5, CIFAR-10 Batch 2:  Loss 1.434, Validation Accuracy 0.485\n",
      "Epoch  5, CIFAR-10 Batch 3:  Loss 1.274, Validation Accuracy 0.478\n",
      "Epoch  5, CIFAR-10 Batch 4:  Loss 1.235, Validation Accuracy 0.514\n",
      "Epoch  5, CIFAR-10 Batch 5:  Loss 1.279, Validation Accuracy 0.508\n",
      "Epoch  6, CIFAR-10 Batch 1:  Loss 1.460, Validation Accuracy 0.504\n",
      "Epoch  6, CIFAR-10 Batch 2:  Loss 1.416, Validation Accuracy 0.495\n",
      "Epoch  6, CIFAR-10 Batch 3:  Loss 1.183, Validation Accuracy 0.510\n",
      "Epoch  6, CIFAR-10 Batch 4:  Loss 1.161, Validation Accuracy 0.532\n",
      "Epoch  6, CIFAR-10 Batch 5:  Loss 1.222, Validation Accuracy 0.515\n",
      "Epoch  7, CIFAR-10 Batch 1:  Loss 1.401, Validation Accuracy 0.514\n",
      "Epoch  7, CIFAR-10 Batch 2:  Loss 1.302, Validation Accuracy 0.530\n",
      "Epoch  7, CIFAR-10 Batch 3:  Loss 1.160, Validation Accuracy 0.509\n",
      "Epoch  7, CIFAR-10 Batch 4:  Loss 1.072, Validation Accuracy 0.552\n",
      "Epoch  7, CIFAR-10 Batch 5:  Loss 1.196, Validation Accuracy 0.528\n",
      "Epoch  8, CIFAR-10 Batch 1:  Loss 1.307, Validation Accuracy 0.537\n",
      "Epoch  8, CIFAR-10 Batch 2:  Loss 1.296, Validation Accuracy 0.535\n",
      "Epoch  8, CIFAR-10 Batch 3:  Loss 1.050, Validation Accuracy 0.540\n",
      "Epoch  8, CIFAR-10 Batch 4:  Loss 1.035, Validation Accuracy 0.559\n",
      "Epoch  8, CIFAR-10 Batch 5:  Loss 1.105, Validation Accuracy 0.550\n",
      "Epoch  9, CIFAR-10 Batch 1:  Loss 1.263, Validation Accuracy 0.549\n",
      "Epoch  9, CIFAR-10 Batch 2:  Loss 1.267, Validation Accuracy 0.541\n",
      "Epoch  9, CIFAR-10 Batch 3:  Loss 0.966, Validation Accuracy 0.564\n",
      "Epoch  9, CIFAR-10 Batch 4:  Loss 1.024, Validation Accuracy 0.565\n",
      "Epoch  9, CIFAR-10 Batch 5:  Loss 1.108, Validation Accuracy 0.552\n",
      "Epoch 10, CIFAR-10 Batch 1:  Loss 1.182, Validation Accuracy 0.566\n",
      "Epoch 10, CIFAR-10 Batch 2:  Loss 1.310, Validation Accuracy 0.532\n",
      "Epoch 10, CIFAR-10 Batch 3:  Loss 0.950, Validation Accuracy 0.575\n",
      "Epoch 10, CIFAR-10 Batch 4:  Loss 0.964, Validation Accuracy 0.577\n",
      "Epoch 10, CIFAR-10 Batch 5:  Loss 1.076, Validation Accuracy 0.555\n",
      "Epoch 11, CIFAR-10 Batch 1:  Loss 1.182, Validation Accuracy 0.579\n",
      "Epoch 11, CIFAR-10 Batch 2:  Loss 1.222, Validation Accuracy 0.555\n",
      "Epoch 11, CIFAR-10 Batch 3:  Loss 0.882, Validation Accuracy 0.594\n",
      "Epoch 11, CIFAR-10 Batch 4:  Loss 0.930, Validation Accuracy 0.584\n",
      "Epoch 11, CIFAR-10 Batch 5:  Loss 0.990, Validation Accuracy 0.573\n",
      "Epoch 12, CIFAR-10 Batch 1:  Loss 1.095, Validation Accuracy 0.598\n",
      "Epoch 12, CIFAR-10 Batch 2:  Loss 1.118, Validation Accuracy 0.580\n",
      "Epoch 12, CIFAR-10 Batch 3:  Loss 0.906, Validation Accuracy 0.592\n",
      "Epoch 12, CIFAR-10 Batch 4:  Loss 0.852, Validation Accuracy 0.602\n",
      "Epoch 12, CIFAR-10 Batch 5:  Loss 0.961, Validation Accuracy 0.580\n",
      "Epoch 13, CIFAR-10 Batch 1:  Loss 1.028, Validation Accuracy 0.606\n",
      "Epoch 13, CIFAR-10 Batch 2:  Loss 1.105, Validation Accuracy 0.587\n",
      "Epoch 13, CIFAR-10 Batch 3:  Loss 0.844, Validation Accuracy 0.604\n",
      "Epoch 13, CIFAR-10 Batch 4:  Loss 0.807, Validation Accuracy 0.623\n",
      "Epoch 13, CIFAR-10 Batch 5:  Loss 0.888, Validation Accuracy 0.601\n",
      "Epoch 14, CIFAR-10 Batch 1:  Loss 0.968, Validation Accuracy 0.617\n",
      "Epoch 14, CIFAR-10 Batch 2:  Loss 1.180, Validation Accuracy 0.570\n",
      "Epoch 14, CIFAR-10 Batch 3:  Loss 0.801, Validation Accuracy 0.617\n",
      "Epoch 14, CIFAR-10 Batch 4:  Loss 0.757, Validation Accuracy 0.629\n",
      "Epoch 14, CIFAR-10 Batch 5:  Loss 0.869, Validation Accuracy 0.609\n",
      "Epoch 15, CIFAR-10 Batch 1:  Loss 1.009, Validation Accuracy 0.615\n",
      "Epoch 15, CIFAR-10 Batch 2:  Loss 1.027, Validation Accuracy 0.599\n",
      "Epoch 15, CIFAR-10 Batch 3:  Loss 0.772, Validation Accuracy 0.614\n",
      "Epoch 15, CIFAR-10 Batch 4:  Loss 0.707, Validation Accuracy 0.644\n",
      "Epoch 15, CIFAR-10 Batch 5:  Loss 0.804, Validation Accuracy 0.619\n",
      "Epoch 16, CIFAR-10 Batch 1:  Loss 0.900, Validation Accuracy 0.630\n",
      "Epoch 16, CIFAR-10 Batch 2:  Loss 1.027, Validation Accuracy 0.603\n",
      "Epoch 16, CIFAR-10 Batch 3:  Loss 0.805, Validation Accuracy 0.604\n",
      "Epoch 16, CIFAR-10 Batch 4:  Loss 0.718, Validation Accuracy 0.636\n",
      "Epoch 16, CIFAR-10 Batch 5:  Loss 0.793, Validation Accuracy 0.622\n",
      "Epoch 17, CIFAR-10 Batch 1:  Loss 0.902, Validation Accuracy 0.639\n",
      "Epoch 17, CIFAR-10 Batch 2:  Loss 0.975, Validation Accuracy 0.619\n",
      "Epoch 17, CIFAR-10 Batch 3:  Loss 0.794, Validation Accuracy 0.614\n",
      "Epoch 17, CIFAR-10 Batch 4:  Loss 0.704, Validation Accuracy 0.631\n",
      "Epoch 17, CIFAR-10 Batch 5:  Loss 0.767, Validation Accuracy 0.636\n",
      "Epoch 18, CIFAR-10 Batch 1:  Loss 0.848, Validation Accuracy 0.644\n",
      "Epoch 18, CIFAR-10 Batch 2:  Loss 0.850, Validation Accuracy 0.634\n",
      "Epoch 18, CIFAR-10 Batch 3:  Loss 0.769, Validation Accuracy 0.619\n",
      "Epoch 18, CIFAR-10 Batch 4:  Loss 0.675, Validation Accuracy 0.636\n",
      "Epoch 18, CIFAR-10 Batch 5:  Loss 0.705, Validation Accuracy 0.641\n",
      "Epoch 19, CIFAR-10 Batch 1:  Loss 0.761, Validation Accuracy 0.666\n",
      "Epoch 19, CIFAR-10 Batch 2:  Loss 0.778, Validation Accuracy 0.652\n",
      "Epoch 19, CIFAR-10 Batch 3:  Loss 0.684, Validation Accuracy 0.639\n",
      "Epoch 19, CIFAR-10 Batch 4:  Loss 0.606, Validation Accuracy 0.659\n",
      "Epoch 19, CIFAR-10 Batch 5:  Loss 0.685, Validation Accuracy 0.642\n",
      "Epoch 20, CIFAR-10 Batch 1:  Loss 0.759, Validation Accuracy 0.652\n",
      "Epoch 20, CIFAR-10 Batch 2:  Loss 0.770, Validation Accuracy 0.654\n",
      "Epoch 20, CIFAR-10 Batch 3:  Loss 0.646, Validation Accuracy 0.645\n",
      "Epoch 20, CIFAR-10 Batch 4:  Loss 0.595, Validation Accuracy 0.653\n",
      "Epoch 20, CIFAR-10 Batch 5:  Loss 0.677, Validation Accuracy 0.649\n",
      "Epoch 21, CIFAR-10 Batch 1:  Loss 0.732, Validation Accuracy 0.668\n",
      "Epoch 21, CIFAR-10 Batch 2:  Loss 0.738, Validation Accuracy 0.661\n",
      "Epoch 21, CIFAR-10 Batch 3:  Loss 0.606, Validation Accuracy 0.662\n",
      "Epoch 21, CIFAR-10 Batch 4:  Loss 0.553, Validation Accuracy 0.668\n",
      "Epoch 21, CIFAR-10 Batch 5:  Loss 0.638, Validation Accuracy 0.660\n",
      "Epoch 22, CIFAR-10 Batch 1:  Loss 0.722, Validation Accuracy 0.673\n",
      "Epoch 22, CIFAR-10 Batch 2:  Loss 0.717, Validation Accuracy 0.668\n",
      "Epoch 22, CIFAR-10 Batch 3:  Loss 0.639, Validation Accuracy 0.650\n",
      "Epoch 22, CIFAR-10 Batch 4:  Loss 0.529, Validation Accuracy 0.661\n",
      "Epoch 22, CIFAR-10 Batch 5:  Loss 0.585, Validation Accuracy 0.666\n",
      "Epoch 23, CIFAR-10 Batch 1:  Loss 0.666, Validation Accuracy 0.676\n",
      "Epoch 23, CIFAR-10 Batch 2:  Loss 0.714, Validation Accuracy 0.668\n",
      "Epoch 23, CIFAR-10 Batch 3:  Loss 0.525, Validation Accuracy 0.673\n",
      "Epoch 23, CIFAR-10 Batch 4:  Loss 0.497, Validation Accuracy 0.672\n",
      "Epoch 23, CIFAR-10 Batch 5:  Loss 0.595, Validation Accuracy 0.668\n",
      "Epoch 24, CIFAR-10 Batch 1:  Loss 0.637, Validation Accuracy 0.678\n",
      "Epoch 24, CIFAR-10 Batch 2:  Loss 0.670, Validation Accuracy 0.676\n",
      "Epoch 24, CIFAR-10 Batch 3:  Loss 0.545, Validation Accuracy 0.669\n",
      "Epoch 24, CIFAR-10 Batch 4:  Loss 0.479, Validation Accuracy 0.680\n",
      "Epoch 24, CIFAR-10 Batch 5:  Loss 0.523, Validation Accuracy 0.678\n",
      "Epoch 25, CIFAR-10 Batch 1:  Loss 0.627, Validation Accuracy 0.677\n",
      "Epoch 25, CIFAR-10 Batch 2:  Loss 0.627, Validation Accuracy 0.680\n",
      "Epoch 25, CIFAR-10 Batch 3:  Loss 0.522, Validation Accuracy 0.664\n",
      "Epoch 25, CIFAR-10 Batch 4:  Loss 0.474, Validation Accuracy 0.680\n",
      "Epoch 25, CIFAR-10 Batch 5:  Loss 0.519, Validation Accuracy 0.675\n",
      "Epoch 26, CIFAR-10 Batch 1:  Loss 0.569, Validation Accuracy 0.685\n",
      "Epoch 26, CIFAR-10 Batch 2:  Loss 0.582, Validation Accuracy 0.688\n",
      "Epoch 26, CIFAR-10 Batch 3:  Loss 0.466, Validation Accuracy 0.681\n",
      "Epoch 26, CIFAR-10 Batch 4:  Loss 0.450, Validation Accuracy 0.681\n",
      "Epoch 26, CIFAR-10 Batch 5:  Loss 0.482, Validation Accuracy 0.687\n",
      "Epoch 27, CIFAR-10 Batch 1:  Loss 0.559, Validation Accuracy 0.687\n",
      "Epoch 27, CIFAR-10 Batch 2:  Loss 0.588, Validation Accuracy 0.685\n",
      "Epoch 27, CIFAR-10 Batch 3:  Loss 0.465, Validation Accuracy 0.681\n",
      "Epoch 27, CIFAR-10 Batch 4:  Loss 0.474, Validation Accuracy 0.662\n",
      "Epoch 27, CIFAR-10 Batch 5:  Loss 0.469, Validation Accuracy 0.681\n",
      "Epoch 28, CIFAR-10 Batch 1:  Loss 0.609, Validation Accuracy 0.678\n",
      "Epoch 28, CIFAR-10 Batch 2:  Loss 0.599, Validation Accuracy 0.685\n",
      "Epoch 28, CIFAR-10 Batch 3:  Loss 0.454, Validation Accuracy 0.688\n",
      "Epoch 28, CIFAR-10 Batch 4:  Loss 0.424, Validation Accuracy 0.687\n",
      "Epoch 28, CIFAR-10 Batch 5:  Loss 0.454, Validation Accuracy 0.682\n",
      "Epoch 29, CIFAR-10 Batch 1:  Loss 0.562, Validation Accuracy 0.691\n",
      "Epoch 29, CIFAR-10 Batch 2:  Loss 0.534, Validation Accuracy 0.700\n",
      "Epoch 29, CIFAR-10 Batch 3:  Loss 0.459, Validation Accuracy 0.690\n",
      "Epoch 29, CIFAR-10 Batch 4:  Loss 0.390, Validation Accuracy 0.686\n",
      "Epoch 29, CIFAR-10 Batch 5:  Loss 0.463, Validation Accuracy 0.687\n",
      "Epoch 30, CIFAR-10 Batch 1:  Loss 0.531, Validation Accuracy 0.696\n",
      "Epoch 30, CIFAR-10 Batch 2:  Loss 0.515, Validation Accuracy 0.695\n",
      "Epoch 30, CIFAR-10 Batch 3:  Loss 0.432, Validation Accuracy 0.688\n",
      "Epoch 30, CIFAR-10 Batch 4:  Loss 0.363, Validation Accuracy 0.694\n",
      "Epoch 30, CIFAR-10 Batch 5:  Loss 0.423, Validation Accuracy 0.689\n",
      "Epoch 31, CIFAR-10 Batch 1:  Loss 0.517, Validation Accuracy 0.693\n",
      "Epoch 31, CIFAR-10 Batch 2:  Loss 0.504, Validation Accuracy 0.700\n",
      "Epoch 31, CIFAR-10 Batch 3:  Loss 0.355, Validation Accuracy 0.707\n",
      "Epoch 31, CIFAR-10 Batch 4:  Loss 0.335, Validation Accuracy 0.702\n",
      "Epoch 31, CIFAR-10 Batch 5:  Loss 0.400, Validation Accuracy 0.695\n",
      "Epoch 32, CIFAR-10 Batch 1:  Loss 0.555, Validation Accuracy 0.690\n",
      "Epoch 32, CIFAR-10 Batch 2:  Loss 0.479, Validation Accuracy 0.700\n",
      "Epoch 32, CIFAR-10 Batch 3:  Loss 0.405, Validation Accuracy 0.695\n",
      "Epoch 32, CIFAR-10 Batch 4:  Loss 0.348, Validation Accuracy 0.692\n",
      "Epoch 32, CIFAR-10 Batch 5:  Loss 0.379, Validation Accuracy 0.696\n",
      "Epoch 33, CIFAR-10 Batch 1:  Loss 0.498, Validation Accuracy 0.700\n",
      "Epoch 33, CIFAR-10 Batch 2:  Loss 0.420, Validation Accuracy 0.711\n",
      "Epoch 33, CIFAR-10 Batch 3:  Loss 0.354, Validation Accuracy 0.704\n",
      "Epoch 33, CIFAR-10 Batch 4:  Loss 0.341, Validation Accuracy 0.695\n",
      "Epoch 33, CIFAR-10 Batch 5:  Loss 0.389, Validation Accuracy 0.685\n",
      "Epoch 34, CIFAR-10 Batch 1:  Loss 0.477, Validation Accuracy 0.698\n",
      "Epoch 34, CIFAR-10 Batch 2:  Loss 0.450, Validation Accuracy 0.705\n",
      "Epoch 34, CIFAR-10 Batch 3:  Loss 0.350, Validation Accuracy 0.709\n",
      "Epoch 34, CIFAR-10 Batch 4:  Loss 0.302, Validation Accuracy 0.707\n",
      "Epoch 34, CIFAR-10 Batch 5:  Loss 0.396, Validation Accuracy 0.685\n",
      "Epoch 35, CIFAR-10 Batch 1:  Loss 0.446, Validation Accuracy 0.697\n",
      "Epoch 35, CIFAR-10 Batch 2:  Loss 0.462, Validation Accuracy 0.711\n",
      "Epoch 35, CIFAR-10 Batch 3:  Loss 0.355, Validation Accuracy 0.705\n",
      "Epoch 35, CIFAR-10 Batch 4:  Loss 0.275, Validation Accuracy 0.709\n",
      "Epoch 35, CIFAR-10 Batch 5:  Loss 0.341, Validation Accuracy 0.707\n",
      "Epoch 36, CIFAR-10 Batch 1:  Loss 0.427, Validation Accuracy 0.704\n",
      "Epoch 36, CIFAR-10 Batch 2:  Loss 0.467, Validation Accuracy 0.702\n",
      "Epoch 36, CIFAR-10 Batch 3:  Loss 0.304, Validation Accuracy 0.718\n",
      "Epoch 36, CIFAR-10 Batch 4:  Loss 0.259, Validation Accuracy 0.713\n",
      "Epoch 36, CIFAR-10 Batch 5:  Loss 0.326, Validation Accuracy 0.708\n",
      "Epoch 37, CIFAR-10 Batch 1:  Loss 0.380, Validation Accuracy 0.713\n",
      "Epoch 37, CIFAR-10 Batch 2:  Loss 0.411, Validation Accuracy 0.713\n",
      "Epoch 37, CIFAR-10 Batch 3:  Loss 0.349, Validation Accuracy 0.701\n",
      "Epoch 37, CIFAR-10 Batch 4:  Loss 0.267, Validation Accuracy 0.718\n",
      "Epoch 37, CIFAR-10 Batch 5:  Loss 0.328, Validation Accuracy 0.705\n",
      "Epoch 38, CIFAR-10 Batch 1:  Loss 0.402, Validation Accuracy 0.712\n",
      "Epoch 38, CIFAR-10 Batch 2:  Loss 0.392, Validation Accuracy 0.712\n",
      "Epoch 38, CIFAR-10 Batch 3:  Loss 0.332, Validation Accuracy 0.708\n",
      "Epoch 38, CIFAR-10 Batch 4:  Loss 0.260, Validation Accuracy 0.711\n",
      "Epoch 38, CIFAR-10 Batch 5:  Loss 0.291, Validation Accuracy 0.705\n",
      "Epoch 39, CIFAR-10 Batch 1:  Loss 0.363, Validation Accuracy 0.717\n",
      "Epoch 39, CIFAR-10 Batch 2:  Loss 0.379, Validation Accuracy 0.710\n",
      "Epoch 39, CIFAR-10 Batch 3:  Loss 0.286, Validation Accuracy 0.713\n",
      "Epoch 39, CIFAR-10 Batch 4:  Loss 0.249, Validation Accuracy 0.716\n",
      "Epoch 39, CIFAR-10 Batch 5:  Loss 0.280, Validation Accuracy 0.709\n",
      "Epoch 40, CIFAR-10 Batch 1:  Loss 0.353, Validation Accuracy 0.714\n",
      "Epoch 40, CIFAR-10 Batch 2:  Loss 0.409, Validation Accuracy 0.706\n",
      "Epoch 40, CIFAR-10 Batch 3:  Loss 0.265, Validation Accuracy 0.719\n",
      "Epoch 40, CIFAR-10 Batch 4:  Loss 0.234, Validation Accuracy 0.708\n",
      "Epoch 40, CIFAR-10 Batch 5:  Loss 0.305, Validation Accuracy 0.707\n",
      "Epoch 41, CIFAR-10 Batch 1:  Loss 0.355, Validation Accuracy 0.714\n",
      "Epoch 41, CIFAR-10 Batch 2:  Loss 0.354, Validation Accuracy 0.714\n",
      "Epoch 41, CIFAR-10 Batch 3:  Loss 0.293, Validation Accuracy 0.703\n",
      "Epoch 41, CIFAR-10 Batch 4:  Loss 0.205, Validation Accuracy 0.714\n",
      "Epoch 41, CIFAR-10 Batch 5:  Loss 0.263, Validation Accuracy 0.712\n",
      "Epoch 42, CIFAR-10 Batch 1:  Loss 0.306, Validation Accuracy 0.718\n",
      "Epoch 42, CIFAR-10 Batch 2:  Loss 0.323, Validation Accuracy 0.722\n",
      "Epoch 42, CIFAR-10 Batch 3:  Loss 0.258, Validation Accuracy 0.718\n",
      "Epoch 42, CIFAR-10 Batch 4:  Loss 0.201, Validation Accuracy 0.723\n",
      "Epoch 42, CIFAR-10 Batch 5:  Loss 0.257, Validation Accuracy 0.706\n",
      "Epoch 43, CIFAR-10 Batch 1:  Loss 0.322, Validation Accuracy 0.723\n",
      "Epoch 43, CIFAR-10 Batch 2:  Loss 0.316, Validation Accuracy 0.720\n",
      "Epoch 43, CIFAR-10 Batch 3:  Loss 0.290, Validation Accuracy 0.714\n",
      "Epoch 43, CIFAR-10 Batch 4:  Loss 0.224, Validation Accuracy 0.716\n",
      "Epoch 43, CIFAR-10 Batch 5:  Loss 0.261, Validation Accuracy 0.705\n",
      "Epoch 44, CIFAR-10 Batch 1:  Loss 0.304, Validation Accuracy 0.723\n",
      "Epoch 44, CIFAR-10 Batch 2:  Loss 0.305, Validation Accuracy 0.717\n",
      "Epoch 44, CIFAR-10 Batch 3:  Loss 0.252, Validation Accuracy 0.717\n",
      "Epoch 44, CIFAR-10 Batch 4:  Loss 0.188, Validation Accuracy 0.731\n",
      "Epoch 44, CIFAR-10 Batch 5:  Loss 0.213, Validation Accuracy 0.722\n",
      "Epoch 45, CIFAR-10 Batch 1:  Loss 0.297, Validation Accuracy 0.724\n",
      "Epoch 45, CIFAR-10 Batch 2:  Loss 0.291, Validation Accuracy 0.722\n",
      "Epoch 45, CIFAR-10 Batch 3:  Loss 0.251, Validation Accuracy 0.721\n",
      "Epoch 45, CIFAR-10 Batch 4:  Loss 0.202, Validation Accuracy 0.727\n",
      "Epoch 45, CIFAR-10 Batch 5:  Loss 0.224, Validation Accuracy 0.715\n",
      "Epoch 46, CIFAR-10 Batch 1:  Loss 0.268, Validation Accuracy 0.733\n",
      "Epoch 46, CIFAR-10 Batch 2:  Loss 0.292, Validation Accuracy 0.720\n",
      "Epoch 46, CIFAR-10 Batch 3:  Loss 0.256, Validation Accuracy 0.722\n",
      "Epoch 46, CIFAR-10 Batch 4:  Loss 0.196, Validation Accuracy 0.728\n",
      "Epoch 46, CIFAR-10 Batch 5:  Loss 0.269, Validation Accuracy 0.701\n",
      "Epoch 47, CIFAR-10 Batch 1:  Loss 0.311, Validation Accuracy 0.724\n",
      "Epoch 47, CIFAR-10 Batch 2:  Loss 0.288, Validation Accuracy 0.719\n",
      "Epoch 47, CIFAR-10 Batch 3:  Loss 0.218, Validation Accuracy 0.721\n",
      "Epoch 47, CIFAR-10 Batch 4:  Loss 0.191, Validation Accuracy 0.721\n",
      "Epoch 47, CIFAR-10 Batch 5:  Loss 0.220, Validation Accuracy 0.713\n",
      "Epoch 48, CIFAR-10 Batch 1:  Loss 0.270, Validation Accuracy 0.721\n",
      "Epoch 48, CIFAR-10 Batch 2:  Loss 0.250, Validation Accuracy 0.730\n",
      "Epoch 48, CIFAR-10 Batch 3:  Loss 0.223, Validation Accuracy 0.716\n",
      "Epoch 48, CIFAR-10 Batch 4:  Loss 0.173, Validation Accuracy 0.726\n",
      "Epoch 48, CIFAR-10 Batch 5:  Loss 0.191, Validation Accuracy 0.714\n",
      "Epoch 49, CIFAR-10 Batch 1:  Loss 0.228, Validation Accuracy 0.729\n",
      "Epoch 49, CIFAR-10 Batch 2:  Loss 0.253, Validation Accuracy 0.733\n",
      "Epoch 49, CIFAR-10 Batch 3:  Loss 0.206, Validation Accuracy 0.723\n",
      "Epoch 49, CIFAR-10 Batch 4:  Loss 0.177, Validation Accuracy 0.726\n",
      "Epoch 49, CIFAR-10 Batch 5:  Loss 0.183, Validation Accuracy 0.727\n",
      "Epoch 50, CIFAR-10 Batch 1:  Loss 0.242, Validation Accuracy 0.727\n",
      "Epoch 50, CIFAR-10 Batch 2:  Loss 0.247, Validation Accuracy 0.732\n",
      "Epoch 50, CIFAR-10 Batch 3:  Loss 0.178, Validation Accuracy 0.730\n",
      "Epoch 50, CIFAR-10 Batch 4:  Loss 0.213, Validation Accuracy 0.710\n",
      "Epoch 50, CIFAR-10 Batch 5:  Loss 0.218, Validation Accuracy 0.707\n"
     ]
    }
   ],
   "source": [
    "\"\"\"\n",
    "DON'T MODIFY ANYTHING IN THIS CELL\n",
    "\"\"\"\n",
    "save_model_path = './image_classification'\n",
    "\n",
    "print('Training...')\n",
    "with tf.Session() as sess:\n",
    "    # Initializing the variables\n",
    "    sess.run(tf.global_variables_initializer())\n",
    "    \n",
    "    # Training cycle\n",
    "    for epoch in range(epochs):\n",
    "        # Loop over all batches\n",
    "        n_batches = 5\n",
    "        for batch_i in range(1, n_batches + 1):\n",
    "            for batch_features, batch_labels in helper.load_preprocess_training_batch(batch_i, batch_size):\n",
    "                train_neural_network(sess, optimizer, keep_probability, batch_features, batch_labels)\n",
    "            print('Epoch {:>2}, CIFAR-10 Batch {}:  '.format(epoch + 1, batch_i), end='')\n",
    "            print_stats(sess, batch_features, batch_labels, cost, accuracy)\n",
    "            \n",
    "    # Save Model\n",
    "    saver = tf.train.Saver()\n",
    "    save_path = saver.save(sess, save_model_path)"
   ]
  },
  {
   "cell_type": "markdown",
   "metadata": {},
   "source": [
    "# Checkpoint\n",
    "The model has been saved to disk.\n",
    "## Test Model\n",
    "Test your model against the test dataset.  This will be your final accuracy. You should have an accuracy greater than 50%. If you don't, keep tweaking the model architecture and parameters."
   ]
  },
  {
   "cell_type": "code",
   "execution_count": 18,
   "metadata": {},
   "outputs": [
    {
     "name": "stdout",
     "output_type": "stream",
     "text": [
      "Testing Accuracy: 0.6987477004528045\n",
      "\n"
     ]
    },
    {
     "data": {
      "image/png": "[encoded data removed]",
      "text/plain": [
       "<matplotlib.figure.Figure at 0x7f5cbab98f60>"
      ]
     },
     "metadata": {
      "image/png": {
       "height": 319,
       "width": 355
      }
     },
     "output_type": "display_data"
    }
   ],
   "source": [
    "\"\"\"\n",
    "DON'T MODIFY ANYTHING IN THIS CELL\n",
    "\"\"\"\n",
    "%matplotlib inline\n",
    "%config InlineBackend.figure_format = 'retina'\n",
    "\n",
    "import tensorflow as tf\n",
    "import pickle\n",
    "import helper\n",
    "import random\n",
    "\n",
    "# Set batch size if not already set\n",
    "try:\n",
    "    if batch_size:\n",
    "        pass\n",
    "except NameError:\n",
    "    batch_size = 64\n",
    "\n",
    "save_model_path = './image_classification'\n",
    "n_samples = 4\n",
    "top_n_predictions = 3\n",
    "\n",
    "def test_model():\n",
    "    \"\"\"\n",
    "    Test the saved model against the test dataset\n",
    "    \"\"\"\n",
    "\n",
    "    test_features, test_labels = pickle.load(open('preprocess_test.p', mode='rb'))\n",
    "    loaded_graph = tf.Graph()\n",
    "\n",
    "    with tf.Session(graph=loaded_graph) as sess:\n",
    "        # Load model\n",
    "        loader = tf.train.import_meta_graph(save_model_path + '.meta')\n",
    "        loader.restore(sess, save_model_path)\n",
    "\n",
    "        # Get Tensors from loaded model\n",
    "        loaded_x = loaded_graph.get_tensor_by_name('x:0')\n",
    "        loaded_y = loaded_graph.get_tensor_by_name('y:0')\n",
    "        loaded_keep_prob = loaded_graph.get_tensor_by_name('keep_prob:0')\n",
    "        loaded_logits = loaded_graph.get_tensor_by_name('logits:0')\n",
    "        loaded_acc = loaded_graph.get_tensor_by_name('accuracy:0')\n",
    "        \n",
    "        # Get accuracy in batches for memory limitations\n",
    "        test_batch_acc_total = 0\n",
    "        test_batch_count = 0\n",
    "        \n",
    "        for test_feature_batch, test_label_batch in helper.batch_features_labels(test_features, test_labels, batch_size):\n",
    "            test_batch_acc_total += sess.run(\n",
    "                loaded_acc,\n",
    "                feed_dict={loaded_x: test_feature_batch, loaded_y: test_label_batch, loaded_keep_prob: 1.0})\n",
    "            test_batch_count += 1\n",
    "\n",
    "        print('Testing Accuracy: {}\\n'.format(test_batch_acc_total/test_batch_count))\n",
    "\n",
    "        # Print Random Samples\n",
    "        random_test_features, random_test_labels = tuple(zip(*random.sample(list(zip(test_features, test_labels)), n_samples)))\n",
    "        random_test_predictions = sess.run(\n",
    "            tf.nn.top_k(tf.nn.softmax(loaded_logits), top_n_predictions),\n",
    "            feed_dict={loaded_x: random_test_features, loaded_y: random_test_labels, loaded_keep_prob: 1.0})\n",
    "        helper.display_image_predictions(random_test_features, random_test_labels, random_test_predictions)\n",
    "\n",
    "\n",
    "test_model()"
   ]
  },
  {
   "cell_type": "markdown",
   "metadata": {},
   "source": [
    "## Why 50-80% Accuracy?\n",
    "You might be wondering why you can't get an accuracy any higher. First things first, 50% isn't bad for a simple CNN.  Pure guessing would get you 10% accuracy. However, you might notice people are getting scores [well above 80%](http://rodrigob.github.io/are_we_there_yet/build/classification_datasets_results.html#43494641522d3130).  That's because we haven't taught you all there is to know about neural networks. We still need to cover a few more techniques.\n",
    "## Submitting This Project\n",
    "When submitting this project, make sure to run all the cells before saving the notebook.  Save the notebook file as \"dlnd_image_classification.ipynb\" and save it as a HTML file under \"File\" -> \"Download as\".  Include the \"helper.py\" and \"problem_unittests.py\" files in your submission."
   ]
  },
  {
   "cell_type": "markdown",
   "metadata": {},
   "source": [
    "### Feeback From Reviewer\n",
    "\n",
    "![Title](general_feedback.jpg)"
   ]
  },
  {
   "cell_type": "code",
   "execution_count": null,
   "metadata": {
    "collapsed": true
   },
   "outputs": [],
   "source": []
  }
 ],
 "metadata": {
  "kernelspec": {
   "display_name": "Python 3",
   "language": "python",
   "name": "python3"
  },
  "language_info": {
   "codemirror_mode": {
    "name": "ipython",
    "version": 3
   },
   "file_extension": ".py",
   "mimetype": "text/x-python",
   "name": "python",
   "nbconvert_exporter": "python",
   "pygments_lexer": "ipython3",
   "version": "3.5.4"
  },
  "widgets": {
   "state": {},
   "version": "1.1.2"
  }
 },
 "nbformat": 4,
 "nbformat_minor": 1
}
